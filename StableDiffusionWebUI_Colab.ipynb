{
  "cells": [
    {
      "cell_type": "markdown",
      "metadata": {
        "id": "view-in-github",
        "colab_type": "text"
      },
      "source": [
        "<a href=\"https://colab.research.google.com/github/MPFROC/StableDiffusionWebUI_Colab/blob/main/StableDiffusionWebUI_Colab.ipynb\" target=\"_parent\"><img src=\"https://colab.research.google.com/assets/colab-badge.svg\" alt=\"Open In Colab\"/></a>"
      ]
    },
    {
      "cell_type": "markdown",
      "metadata": {
        "id": "YiJ0tHSiYwqL"
      },
      "source": [
        "第一次运行:1,2,3,4\n",
        "\n",
        "保存后运行:3"
      ]
    },
    {
      "cell_type": "markdown",
      "source": [
        "First run: 1,2,3,4\n",
        "\n",
        "Run after save: 3"
      ],
      "metadata": {
        "id": "NCM_WiP8eI5N"
      }
    },
    {
      "cell_type": "code",
      "execution_count": null,
      "metadata": {
        "cellView": "form",
        "id": "b2NNCui4XGQT"
      },
      "outputs": [],
      "source": [
        "#@title 1.安装/Install\n",
        "!git clone https://github.com/AUTOMATIC1111/stable-diffusion-webui.git\n",
        "!wget https://raw.githubusercontent.com/camenduru/stable-diffusion-webui-scripts/main/run_n_times.py -O /content/stable-diffusion-webui/scripts/run_n_times.py\n",
        "%cd /content/stable-diffusion-webui/extensions/\n",
        "!git clone https://github.com/yfszzx/stable-diffusion-webui-images-browser\n",
        "!git clone -b v1.6 https://github.com/camenduru/sd-civitai-browser /content/stable-diffusion-webui/extensions/sd-civitai-browser"
      ]
    },
    {
      "cell_type": "markdown",
      "source": [
        "如需要更新，转到4\n",
        "\n",
        "If you need an update, go to 4"
      ],
      "metadata": {
        "id": "JBoIRtb7hf4U"
      }
    },
    {
      "cell_type": "markdown",
      "metadata": {
        "id": "jAS_thj7eUvd"
      },
      "source": [
        "##2.模型下载"
      ]
    },
    {
      "cell_type": "code",
      "execution_count": null,
      "metadata": {
        "cellView": "form",
        "id": "Knv07LVcP6eI"
      },
      "outputs": [],
      "source": [
        "#@title 下载模型到临时文件夹/Download Checkpoint to temporary folder\n",
        "!mkdir /content/temp_models\n",
        "!apt-get -y install -qq aria2\n",
        "URL = \"https://pub-bbbe8fa22afd4295a465dbd52375fc55.r2.dev/animefinal-pruned.ckpt\" #@param [\"https://huggingface.co/hakurei/waifu-diffusion-v1-3/resolve/main/wd-v1-3-float16.ckpt\",\"https://pub-bbbe8fa22afd4295a465dbd52375fc55.r2.dev/animefinal-pruned.ckpt\", \"https://huggingface.co/AdamOswald1/anything-v5.0/resolve/main/Anything-V3.0.ckpt\", \"https://huggingface.co/CompVis/stable-diffusion-v-1-4-original/resolve/main/sd-v1-4.ckpt\", \"https://huggingface.co/stabilityai/stable-diffusion-2-1-base/resolve/main/v2-1_512-ema-pruned.ckpt\"] {allow-input: true}\n",
        "filename = URL.split(\"/\")[-1]\n",
        "\n",
        "%cd /content/temp_models\n",
        "print('Downloading...')\n",
        "!aria2c --console-log-level=error -c -x 16 -s 16 -k 1M {URL} -o {filename}"
      ]
    },
    {
      "cell_type": "markdown",
      "source": [
        "如果需要保存模型到谷歌云盘，请转到4"
      ],
      "metadata": {
        "id": "00bRsv8hgU1_"
      }
    },
    {
      "cell_type": "markdown",
      "source": [
        "If you need to save the Checkpoint to Google Drive, go to 4"
      ],
      "metadata": {
        "id": "rwTYjk_egd5H"
      }
    },
    {
      "cell_type": "markdown",
      "metadata": {
        "id": "Lo5wLdmNhJ1l"
      },
      "source": [
        "#3.一键启动/Start"
      ]
    },
    {
      "cell_type": "code",
      "execution_count": null,
      "metadata": {
        "cellView": "form",
        "id": "j_-SUgEGzyyH"
      },
      "outputs": [],
      "source": [
        " #@title 挂载谷歌云盘/Mount Google Drive\n",
        "from google.colab import drive\n",
        "drive.mount('/content/drive')"
      ]
    },
    {
      "cell_type": "code",
      "execution_count": null,
      "metadata": {
        "id": "WEWMKtV8x27U",
        "cellView": "form"
      },
      "outputs": [],
      "source": [
        "#@title 一键启动/Start\n",
        "%cd /content\n",
        "\n",
        "import os\n",
        "\n",
        "medvram = False  # @param {type:\"boolean\"}\n",
        "lowvram = False  # @param {type:\"boolean\"}\n",
        "xformers = True  # @param {type:\"boolean\"}\n",
        "API = False  # @param {type:\"boolean\"}\n",
        "no_half_vae = True  # @param {type:\"boolean\"}\n",
        "\n",
        "#@markdown 通过localtunnel内网穿透服务访问：\n",
        "Use_Localtunnel_Share=False #@param {type:\"boolean\"}\n",
        "\n",
        "if Use_Localtunnel_Share:\n",
        "  !npm install -g localtunnel\n",
        "  share = False\n",
        "else:\n",
        "  share = True\n",
        "  !pip install --upgrade fastapi==0.90.1\n",
        "\n",
        "#@markdown 加载指定模型/Loading the specified checkpoint\n",
        "# @markdown  <br >\n",
        "\n",
        "Name = ''  # @param {type:\"string\"}\n",
        "\n",
        "if Name != '' :\n",
        "  Path = '--ckpt /content/drive/MyDrive/stable-diffusion-webui/models/Stable-diffusion/' + Name\n",
        "else:\n",
        "  Path = ''\n",
        "#@markdown 自定义启动参数\n",
        "# @markdown  <br >\n",
        "custom_arguments = \"\"  # @param {type:\"string\"}\n",
        "\n",
        "run_string_with_variables = {\n",
        "    \"--medvram\": f\"{medvram}\",\n",
        "    \"--lowvram\": f\"{lowvram}\",\n",
        "    \"--xformers\": f\"{xformers}\",\n",
        "    \"--api\": f\"{API}\",\n",
        "    \"--no-half-vae\": f\"{no_half_vae}\",\n",
        "    \"--share\": f\"{share}\",\n",
        "}\n",
        "\n",
        "advanced_options = {k for (k, v) in run_string_with_variables.items() if v == \"True\"}\n",
        "\n",
        "vars = \" \".join(advanced_options)\n",
        "\n",
        "os.environ[\"COMMANDLINE_ARGS\"] = f\"{vars} {custom_arguments} {Path}\"\n",
        "\n",
        "if xformers:\n",
        "  !pip install -q https://github.com/camenduru/stable-diffusion-webui-colab/releases/download/0.0.16/xformers-0.0.16+814314d.d20230118-cp38-cp38-linux_x86_64.whl\n",
        "\n",
        "if os.path.exists('/content/drive/MyDrive/stable-diffusion-webui') == True:\n",
        "  %cd /content/drive/MyDrive/stable-diffusion-webui\n",
        "  !python launch.py --enable-insecure-extension-access --skip-version-check --ckpt-dir /content/temp_models & lt --port 7860\n",
        "else :\n",
        "  %cd /content/stable-diffusion-webui\n",
        "  !python launch.py --enable-insecure-extension-access --skip-version-check --ckpt-dir /content/temp_models & lt --port 7860"
      ]
    },
    {
      "cell_type": "markdown",
      "metadata": {
        "id": "1aW2BIm9ol1_"
      },
      "source": [
        "#4.保存及更新/Save and Update"
      ]
    },
    {
      "cell_type": "code",
      "execution_count": null,
      "metadata": {
        "cellView": "form",
        "id": "wVjKcH4FlAeZ"
      },
      "outputs": [],
      "source": [
        "#@title #将WebUI保存到谷歌云盘/Save WebUI to Google Drive\n",
        "#@markdown 至少成功运行一次WebUI后保存/Save after running the Web UI at least once successfully\n",
        "!mv -u /content/stable-diffusion-webui /content/drive/MyDrive/stable-diffusion-webui\n",
        "\n",
        "print ('OK')"
      ]
    },
    {
      "cell_type": "code",
      "execution_count": null,
      "metadata": {
        "cellView": "form",
        "id": "cR401nVxjE0-"
      },
      "outputs": [],
      "source": [
        "/#@title 将模型保存到谷歌云盘/Save the Checkpoint to Google Cloud Drive（Optional）\n",
        "!mv /content/temp_models/* /content/drive/MyDrive/stable-diffusion-webui/models/Stable-diffusion/"
      ]
    },
    {
      "cell_type": "code",
      "execution_count": null,
      "metadata": {
        "cellView": "form",
        "id": "2twbA6cfeimy"
      },
      "outputs": [],
      "source": [
        "#@title 更新/Update(Optional)\n",
        "%cd /content/drive/MyDrive/stable-diffusion-webui/\n",
        "!git pull"
      ]
    }
  ],
  "metadata": {
    "accelerator": "GPU",
    "colab": {
      "collapsed_sections": [
        "jAS_thj7eUvd",
        "1aW2BIm9ol1_"
      ],
      "provenance": [],
      "mount_file_id": "1FTyoMK3FxYelDApNtiIf48HH09HyxJaY",
      "authorship_tag": "ABX9TyO7BxyDHbDncqXdKUC5+gQE",
      "include_colab_link": true
    },
    "gpuClass": "standard",
    "kernelspec": {
      "display_name": "Python 3",
      "name": "python3"
    },
    "language_info": {
      "name": "python"
    }
  },
  "nbformat": 4,
  "nbformat_minor": 0
}