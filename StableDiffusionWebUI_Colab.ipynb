{
  "cells": [
    {
      "cell_type": "markdown",
      "metadata": {
        "id": "view-in-github",
        "colab_type": "text"
      },
      "source": [
        "<a href=\"https://colab.research.google.com/github/MPFROC/StableDiffusionWebUI_Colab/blob/main/StableDiffusionWebUI_Colab.ipynb\" target=\"_parent\"><img src=\"https://colab.research.google.com/assets/colab-badge.svg\" alt=\"Open In Colab\"/></a>"
      ]
    },
    {
      "cell_type": "code",
      "source": [
        " #@title 必须挂载谷歌云盘并确保其至少剩余1G可用空间/You must mount Google Drive and make sure it has at least 1 G of free space\n",
        "from google.colab import drive\n",
        "drive.mount('/content/drive')"
      ],
      "metadata": {
        "cellView": "form",
        "id": "j_-SUgEGzyyH"
      },
      "execution_count": null,
      "outputs": []
    },
    {
      "cell_type": "code",
      "source": [
        "#@title 安装/Install（仅运行一次/Run only once）\n",
        "%cd /content/drive/MyDrive/\n",
        "!git clone https://github.com/AUTOMATIC1111/stable-diffusion-webui.git"
      ],
      "metadata": {
        "cellView": "form",
        "id": "b2NNCui4XGQT"
      },
      "execution_count": null,
      "outputs": []
    },
    {
      "cell_type": "markdown",
      "metadata": {
        "id": "EVf3greUQ9JA"
      },
      "source": [
        "#下载模型/Download Checkpoint"
      ]
    },
    {
      "cell_type": "code",
      "execution_count": null,
      "metadata": {
        "id": "Knv07LVcP6eI",
        "cellView": "form"
      },
      "outputs": [],
      "source": [
        "#@title 下载模型到临时文件夹/Download model to temporary folder\n",
        "!mkdir /content/temp_models\n",
        "%cd /content/temp_models\n",
        "URL = \"https://huggingface.co/ckpt/sd14/resolve/main/sd-v1-4.ckpt\" #@param {type:\"string\"}\n",
        "!wget {URL}"
      ]
    },
    {
      "cell_type": "code",
      "execution_count": null,
      "metadata": {
        "id": "zTN8yhh-R04o",
        "cellView": "form"
      },
      "outputs": [],
      "source": [
        "#@title 保存到谷歌云盘/Save to Google Drive\n",
        "!mv /content/temp_models/* /content/drive/MyDrive/stable-diffusion-webui/models/Stable-diffusion"
      ]
    },
    {
      "cell_type": "markdown",
      "metadata": {
        "id": "JnregvY8PjI-"
      },
      "source": [
        "#一键启动/Start"
      ]
    },
    {
      "cell_type": "code",
      "execution_count": null,
      "metadata": {
        "id": "WEWMKtV8x27U",
        "cellView": "form"
      },
      "outputs": [],
      "source": [
        "#@title 启动参数/Setting\n",
        "\n",
        "import os\n",
        "\n",
        "medvram = False  # @param {type:\"boolean\"}\n",
        "lowvram = False  # @param {type:\"boolean\"}\n",
        "xformers = True  # @param {type:\"boolean\"}\n",
        "API = False  # @param {type:\"boolean\"}\n",
        "\n",
        "# @markdown  <br >\n",
        "custom_arguments = \"\"  # @param {type:\"string\"}\n",
        "\n",
        "run_string_with_variables = {\n",
        "    \"--medvram\": f\"{medvram}\",\n",
        "    \"--lowvram\": f\"{lowvram}\",\n",
        "    \"--xformers\": f\"{xformers}\",\n",
        "    \"--api\": f\"{API}\",\n",
        "}\n",
        "\n",
        "advanced_options = {k for (k, v) in run_string_with_variables.items() if v == \"True\"}\n",
        "\n",
        "vars = \" \".join(advanced_options)\n",
        "\n",
        "os.environ[\"COMMANDLINE_ARGS\"] = f\"{vars} {custom_arguments}\"\n",
        "\n",
        "if xformers == True :\n",
        "  !pip install -q https://github.com/camenduru/stable-diffusion-webui-colab/releases/download/0.0.16/xformers-0.0.16+814314d.d20230118-cp38-cp38-linux_x86_64.whl"
      ]
    },
    {
      "cell_type": "code",
      "execution_count": null,
      "metadata": {
        "id": "iKURWNpWBu-U"
      },
      "outputs": [],
      "source": [
        "!pip install --upgrade fastapi==0.90.1"
      ]
    },
    {
      "cell_type": "code",
      "execution_count": null,
      "metadata": {
        "id": "VfTtIHZzHYSA"
      },
      "outputs": [],
      "source": [
        "%cd /content/drive/MyDrive/stable-diffusion-webui\n",
        "!python launch.py --share --enable-insecure-extension-access --ckpt-dir /content/temp_models"
      ]
    }
  ],
  "metadata": {
    "accelerator": "GPU",
    "colab": {
      "collapsed_sections": [
        "EVf3greUQ9JA",
        "JnregvY8PjI-"
      ],
      "provenance": [],
      "mount_file_id": "1FTyoMK3FxYelDApNtiIf48HH09HyxJaY",
      "authorship_tag": "ABX9TyPhhwK1PqcJkLEI3b2JASLk",
      "include_colab_link": true
    },
    "gpuClass": "standard",
    "kernelspec": {
      "display_name": "Python 3",
      "name": "python3"
    },
    "language_info": {
      "name": "python"
    }
  },
  "nbformat": 4,
  "nbformat_minor": 0
}