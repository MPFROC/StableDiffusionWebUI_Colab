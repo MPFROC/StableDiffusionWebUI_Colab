{
  "cells": [
    {
      "cell_type": "markdown",
      "metadata": {
        "id": "view-in-github",
        "colab_type": "text"
      },
      "source": [
        "<a href=\"https://colab.research.google.com/github/MPFROC/StableDiffusionWebUI_Colab/blob/main/StableDiffusionWebUI_Colab.ipynb\" target=\"_parent\"><img src=\"https://colab.research.google.com/assets/colab-badge.svg\" alt=\"Open In Colab\"/></a>"
      ]
    },
    {
      "cell_type": "code",
      "execution_count": null,
      "metadata": {
        "cellView": "form",
        "id": "b2NNCui4XGQT"
      },
      "outputs": [],
      "source": [
        "#@title 安装/Install（仅运行一次/Run only once）\n",
        "%cd /content/\n",
        "!git clone https://github.com/AUTOMATIC1111/stable-diffusion-webui.git"
      ]
    },
    {
      "cell_type": "markdown",
      "metadata": {
        "id": "jAS_thj7eUvd"
      },
      "source": [
        "##模型下载"
      ]
    },
    {
      "cell_type": "code",
      "execution_count": null,
      "metadata": {
        "cellView": "form",
        "id": "Knv07LVcP6eI"
      },
      "outputs": [],
      "source": [
        "#@title 下载模型到临时文件夹/Download model to temporary folder\n",
        "!mkdir /content/temp_models\n",
        "%cd /content/temp_models\n",
        "URL = \"https://huggingface.co/ckpt/sd14/resolve/main/sd-v1-4.ckpt\" #@param {type:\"string\"}\n",
        "!wget {URL}\n",
        "\n",
        "保存到谷歌云盘/Save to Google Drive = False  # @param {type: \"boolean\"}\n",
        "\n",
        "if 保存到谷歌云盘/Save to Google Drive ==True:\n",
        "\n",
        "!mv /content/temp_models/* /content/drive/MyDrive/stable-diffusion-webui/models/Stable-diffusion"
      ]
    },
    {
      "cell_type": "markdown",
      "metadata": {
        "id": "Lo5wLdmNhJ1l"
      },
      "source": [
        "#一键启动/Start"
      ]
    },
    {
      "cell_type": "code",
      "execution_count": null,
      "metadata": {
        "cellView": "form",
        "id": "j_-SUgEGzyyH"
      },
      "outputs": [],
      "source": [
        " #@title 挂载谷歌云盘/Mount Google Drive\n",
        "from google.colab import drive\n",
        "drive.mount('/content/drive')"
      ]
    },
    {
      "cell_type": "code",
      "execution_count": null,
      "metadata": {
        "cellView": "form",
        "id": "2twbA6cfeimy"
      },
      "outputs": [],
      "source": [
        "#@title 更新/Update\n",
        "%cd /content/drive/MyDrive/stable-diffusion-webui/\n",
        "!git pull"
      ]
    },
    {
      "cell_type": "code",
      "execution_count": null,
      "metadata": {
        "id": "WEWMKtV8x27U",
        "cellView": "form"
      },
      "outputs": [],
      "source": [
        "\n",
        "\n",
        "#@title 一键启动/Start\n",
        "\n",
        "import os\n",
        "\n",
        "medvram = False  # @param {type:\"boolean\"}\n",
        "lowvram = False  # @param {type:\"boolean\"}\n",
        "xformers = True  # @param {type:\"boolean\"}\n",
        "API = False  # @param {type:\"boolean\"}\n",
        "no_half_vae = False  # @param {type:\"boolean\"}\n",
        "\n",
        "# @markdown  <br >\n",
        "custom_arguments = \"\"  # @param {type:\"string\"}\n",
        "\n",
        "run_string_with_variables = {\n",
        "    \"--medvram\": f\"{medvram}\",\n",
        "    \"--lowvram\": f\"{lowvram}\",\n",
        "    \"--xformers\": f\"{xformers}\",\n",
        "    \"--api\": f\"{API}\",\n",
        "    \"--no-half-vae\": f\"{no_half_vae}\",\n",
        "}\n",
        "\n",
        "advanced_options = {k for (k, v) in run_string_with_variables.items() if v == \"True\"}\n",
        "\n",
        "vars = \" \".join(advanced_options)\n",
        "\n",
        "os.environ[\"COMMANDLINE_ARGS\"] = f\"{vars} {custom_arguments}\"\n",
        "\n",
        "if xformers == True :\n",
        "  !pip install -q https://github.com/camenduru/stable-diffusion-webui-colab/releases/download/0.0.16/xformers-0.0.16+814314d.d20230118-cp38-cp38-linux_x86_64.whl\n",
        "\n",
        "!pip install --upgrade fastapi==0.90.1\n",
        "\n",
        "if os.path.exists('/content/drive/MyDrive/stable-diffusion-webui') == True:\n",
        "  %cd /content/drive/MyDrive/stable-diffusion-webui\n",
        "  !python launch.py --share --enable-insecure-extension-access --ckpt-dir /content/temp_models\n",
        "else : \n",
        "  %cd /content/stable-diffusion-webui\n",
        "  !python launch.py --share --enable-insecure-extension-access --ckpt-dir /content/temp_models"
      ]
    },
    {
      "cell_type": "code",
      "execution_count": null,
      "metadata": {
        "cellView": "form",
        "id": "wVjKcH4FlAeZ"
      },
      "outputs": [],
      "source": [
        "#@title 将WebUI保存到谷歌云盘/Save WebUI to Google Drive\n",
        "\n",
        "!mv -u /content/stable-diffusion-webui/ /content/drive/MyDrive/stable-diffusion-webui\n",
        "\n",
        "print ('OK')"
      ]
    }
  ],
  "metadata": {
    "accelerator": "GPU",
    "colab": {
      "collapsed_sections": [
        "jAS_thj7eUvd"
      ],
      "provenance": [],
      "mount_file_id": "1FTyoMK3FxYelDApNtiIf48HH09HyxJaY",
      "authorship_tag": "ABX9TyPHLExKIjrXjLv3SRkAzMo1",
      "include_colab_link": true
    },
    "gpuClass": "standard",
    "kernelspec": {
      "display_name": "Python 3",
      "name": "python3"
    },
    "language_info": {
      "name": "python"
    }
  },
  "nbformat": 4,
  "nbformat_minor": 0
}